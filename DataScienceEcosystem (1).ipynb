{
  "metadata": {
    "kernelspec": {
      "name": "python",
      "display_name": "Python (Pyodide)",
      "language": "python"
    },
    "language_info": {
      "codemirror_mode": {
        "name": "python",
        "version": 3
      },
      "file_extension": ".py",
      "mimetype": "text/x-python",
      "name": "python",
      "nbconvert_exporter": "python",
      "pygments_lexer": "ipython3",
      "version": "3.8"
    }
  },
  "nbformat_minor": 5,
  "nbformat": 4,
  "cells": [
    {
      "id": "e73df17d-70c4-4108-ae82-da34f4b89036",
      "cell_type": "markdown",
      "source": "# Data Science Tools and Ecosystem",
      "metadata": {}
    },
    {
      "id": "1160a1c3-7966-47a3-970c-3b74acdd3c6a",
      "cell_type": "markdown",
      "source": "In this notebook, Data Science Tools and Ecosystem are summarized.\n\n",
      "metadata": {}
    },
    {
      "id": "828bf855-3677-44ad-a968-e1b6ed9a8258",
      "cell_type": "markdown",
      "source": "**Objectives:**\n- List popular languages for Data Science\n- Introduce Tools and libraries used in data science\n- Demonstarte how to create tables and lists \n\n\n",
      "metadata": {}
    },
    {
      "id": "a887d39d-603a-41b1-b40c-504622381a19",
      "cell_type": "markdown",
      "source": "Some of the popular languages that Data Scientists use are:\n1. Python \n2. R\n3. SQL",
      "metadata": {}
    },
    {
      "id": "67877269-c2ef-44e9-9692-8025bcd92670",
      "cell_type": "markdown",
      "source": "\n\n| Data Science Tools \n| -------------\n| Jupyter Notebook\n| RStudio\n| Apache Zeppelin",
      "metadata": {}
    },
    {
      "id": "faf406ab-55e9-4b3f-9535-50eadf27c209",
      "cell_type": "markdown",
      "source": "Some of the commonly used libraries used by Data Scientists include:\n- NumPy\n- Pandas\n- Matplotlib\n- Scikit-learn",
      "metadata": {}
    },
    {
      "id": "87f2291f-5589-4904-a040-83b503a2c64d",
      "cell_type": "markdown",
      "source": "### Below are a few examples of evaluating arithmetic expressions in Python",
      "metadata": {}
    },
    {
      "id": "f18d3894-0018-4d94-b781-21b092fc18cf",
      "cell_type": "code",
      "source": "##This a simple arithmetic expression to mutiply then add integers\n(3*4)+5",
      "metadata": {
        "trusted": true
      },
      "outputs": [
        {
          "execution_count": 3,
          "output_type": "execute_result",
          "data": {
            "text/plain": "17"
          },
          "metadata": {}
        }
      ],
      "execution_count": 3
    },
    {
      "id": "de22ee21-56df-4f06-a697-7ff793f00e3d",
      "cell_type": "code",
      "source": "##This will convert 200 minutes to hours by diving by 60\n200/60",
      "metadata": {
        "trusted": true
      },
      "outputs": [
        {
          "execution_count": 4,
          "output_type": "execute_result",
          "data": {
            "text/plain": "3.3333333333333335"
          },
          "metadata": {}
        }
      ],
      "execution_count": 4
    },
    {
      "id": "dcfc321e-d553-4730-8013-0d573a8ea23a",
      "cell_type": "markdown",
      "source": "## Jagravi Bisen \n[Author]",
      "metadata": {}
    },
    {
      "id": "52775396-fdc9-4dfa-8ce7-0f5d35444b14",
      "cell_type": "code",
      "source": "",
      "metadata": {
        "trusted": true
      },
      "outputs": [],
      "execution_count": null
    }
  ]
}